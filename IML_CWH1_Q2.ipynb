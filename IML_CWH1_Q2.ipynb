{
  "cells": [
    {
      "cell_type": "markdown",
      "source": [
        "<h1 align=\"center\">An Introduction to Machine Learning - 25737</h1>\n",
        "<h4 align=\"center\">Dr. Sajjad Amini</h4>\n",
        "<h4 align=\"center\">Sharif University of Technology, Spring 2023</h4>\n",
        "\n",
        "# Problem Set 02\n",
        "\n",
        "Welcome to your second assignment. This exercise gives you a brief introduction to Python. \n"
      ],
      "metadata": {
        "id": "9CFNN5Ms51un"
      }
    },
    {
      "cell_type": "markdown",
      "source": [
        "STUDENT NAME: \n",
        "\n",
        "STUDENT ID:"
      ],
      "metadata": {
        "id": "otVWavun6BLM"
      }
    },
    {
      "cell_type": "markdown",
      "source": [
        "## Import \n",
        ">Put all of your imports for this file in the below cell."
      ],
      "metadata": {
        "id": "ZmfUgXgE51uo"
      }
    },
    {
      "cell_type": "code",
      "execution_count": null,
      "source": [
        "### START CODE HERE ###\n",
        "\n",
        "### END CODE HERE ###"
      ],
      "outputs": [],
      "metadata": {
        "id": "PKyVIvPF51uo"
      }
    },
    {
      "cell_type": "markdown",
      "source": [
        "# Question 1"
      ],
      "metadata": {
        "id": "TK-ZIy9Z51up"
      }
    },
    {
      "cell_type": "markdown",
      "source": [
        "## Array creation\n",
        ">Create the followings to numpy array:\n",
        "* A: a 3\\*3 array like this:\n",
        "$$\n",
        "A = \\left(\\begin{array}{cc} \n",
        "10 & 20 & 30\\\\\n",
        "5 & 10 & 15\\\\\n",
        "1 & 5 & 8\n",
        "\\end{array}\\right)\n",
        "$$ \n",
        "* B: a 3\\*3\\*4 that filled with the numbers start from 15 and have steps of 5 to the end. The array should be filled first along the first dimension then the second dimension and at last the third dimension. like this:\n",
        "$$\n",
        "B[:, :, 0] = \\left(\\begin{array}{cc} \n",
        "15 & 30 & 45\\\\\n",
        "20 & 35 & 50\\\\\n",
        "25 & 40 & 55\n",
        "\\end{array}\\right)\n",
        "$$ "
      ],
      "metadata": {
        "id": "xATpgtcD51up"
      }
    },
    {
      "cell_type": "code",
      "execution_count": null,
      "source": [
        "### START CODE HERE ###\n",
        "\n",
        "### END CODE HERE ###"
      ],
      "outputs": [],
      "metadata": {
        "id": "TjIs628Y51up"
      }
    },
    {
      "cell_type": "markdown",
      "source": [
        "## Replacement\n",
        ">Replace the last slice of array B (B[:, :, 3]) with values of A. Then print the result."
      ],
      "metadata": {
        "id": "FnkUQTNY51up"
      }
    },
    {
      "cell_type": "code",
      "execution_count": null,
      "source": [
        "### START CODE HERE ###\n",
        "\n",
        "### END CODE HERE ###"
      ],
      "outputs": [],
      "metadata": {
        "id": "P8VC57_o51uq"
      }
    },
    {
      "cell_type": "markdown",
      "source": [
        "## Axis Swap \n",
        ">Swap the first(B[:, :, 0]) and last(B[:, :, 3]) slice of the array B **only with one line of code**. Then print the result."
      ],
      "metadata": {
        "id": "nZs4P5AZ51uq"
      }
    },
    {
      "cell_type": "code",
      "execution_count": null,
      "source": [
        "### START CODE HERE ###\n",
        "\n",
        "### END CODE HERE ###"
      ],
      "outputs": [],
      "metadata": {
        "id": "WmS33bBl51uq"
      }
    },
    {
      "cell_type": "markdown",
      "source": [
        "## Transposing \n",
        ">Transpose the array B elements in each slice. Then print the result."
      ],
      "metadata": {
        "id": "220LTscL51uq"
      }
    },
    {
      "cell_type": "code",
      "execution_count": null,
      "source": [
        "### START CODE HERE ###\n",
        "\n",
        "### END CODE HERE ###"
      ],
      "outputs": [],
      "metadata": {
        "id": "aNMAlnaC51uq"
      }
    },
    {
      "cell_type": "markdown",
      "source": [
        "## Matrix Multiplication\n",
        ">Calculate the matrix multiplication of all slices of the array B. \n",
        "(B[:, :, 0] \\* B[:, :, 1] \\* B[:, :, 2] \\* B[:, :, 3]). Then print the result.\n",
        "\n",
        ">**Note**: the result should be a 3\\*3 array. "
      ],
      "metadata": {
        "id": "xYFuQ6_H51uq"
      }
    },
    {
      "cell_type": "code",
      "execution_count": null,
      "source": [
        "### START CODE HERE ###\n",
        "\n",
        "### END CODE HERE ###"
      ],
      "outputs": [],
      "metadata": {
        "id": "HfQRENtP51uq"
      }
    },
    {
      "cell_type": "markdown",
      "source": [
        "## Determinant\n",
        ">Calculate the determinant of the array A and print it."
      ],
      "metadata": {
        "id": "T-aKILXl51uq"
      }
    },
    {
      "cell_type": "code",
      "execution_count": null,
      "source": [
        "### START CODE HERE ###\n",
        "\n",
        "### END CODE HERE ###"
      ],
      "outputs": [],
      "metadata": {
        "id": "IuIyFxIb51ur"
      }
    },
    {
      "cell_type": "markdown",
      "source": [
        "# Question 2"
      ],
      "metadata": {
        "id": "dUxqZ--i51ur"
      }
    },
    {
      "cell_type": "markdown",
      "source": [
        "## Loading dataset\n",
        ">Load the IMDB-Movie-Data.csv file into a pandas dataframe and show its first 5 rows. Each row of this dataframe corresponds to one film."
      ],
      "metadata": {
        "id": "tVorf1Zj51ur"
      }
    },
    {
      "cell_type": "code",
      "execution_count": null,
      "source": [
        "### START CODE HERE ###\n",
        "\n",
        "### END CODE HERE ###"
      ],
      "outputs": [],
      "metadata": {
        "id": "dIsa36yi51ur"
      }
    },
    {
      "cell_type": "markdown",
      "source": [
        "## Actors/Actresses Activity\n",
        ">For each Actors/Actresses caculate the number of movies in the dataframe, then sort the actors/actresses first by their number of movies in descending order and then by their name in ascending order. "
      ],
      "metadata": {
        "id": "pgDvllsV51ur"
      }
    },
    {
      "cell_type": "code",
      "execution_count": null,
      "source": [
        "### START CODE HERE ###\n",
        "\n",
        "### END CODE HERE ###"
      ],
      "outputs": [],
      "metadata": {
        "id": "GfB9w9UO51ur"
      }
    },
    {
      "cell_type": "markdown",
      "source": [
        "## Score Histogram\n",
        ">Draw the histogram of metascores and ratings. "
      ],
      "metadata": {
        "id": "U8qu6f7d51ur"
      }
    },
    {
      "cell_type": "code",
      "execution_count": null,
      "source": [
        "### START CODE HERE ###\n",
        "\n",
        "### END CODE HERE ###"
      ],
      "outputs": [],
      "metadata": {
        "id": "JUf-Jl6T51ur"
      }
    },
    {
      "cell_type": "markdown",
      "source": [
        "## Correlations\n",
        ">Calculate the correlation between rating, votes and metascore of the movies.\n",
        "Is there any meaningful relation between these features? "
      ],
      "metadata": {
        "id": "_fD8olon51ur"
      }
    },
    {
      "cell_type": "code",
      "execution_count": null,
      "source": [
        "### START CODE HERE ###\n",
        "\n",
        "### END CODE HERE ###"
      ],
      "outputs": [],
      "metadata": {
        "id": "4Llb2din51ur"
      }
    },
    {
      "cell_type": "markdown",
      "source": [
        "# Question 3"
      ],
      "metadata": {
        "id": "kLHzx8KW51ur"
      }
    },
    {
      "cell_type": "markdown",
      "source": [
        "## File\n",
        "> Craet a .txt file and name it \"Name_actors\". You must write the name of all actors/actresses in the IMDB-Movie-Data.csv file. Don't write a name multiple time and write each name in a new line."
      ],
      "metadata": {
        "id": "xQMEJJVI51ur"
      }
    },
    {
      "cell_type": "code",
      "execution_count": null,
      "source": [
        "### START CODE HERE ###\n",
        "\n",
        "### END CODE HERE ###"
      ],
      "outputs": [],
      "metadata": {
        "id": "li8flG_251us"
      }
    },
    {
      "cell_type": "markdown",
      "source": [
        "# Question 4"
      ],
      "metadata": {
        "id": "oXpoTAa-51us"
      }
    },
    {
      "cell_type": "markdown",
      "source": [
        "## Plot\n",
        ">You must plot the number of movies in each year according to the IMDB-Movie-Data.csv file. X-axis is year and y-axis show the number of movies in each year.\n",
        "> set the x_label, y_label and title for your plot."
      ],
      "metadata": {
        "id": "-l8ephAz51us"
      }
    },
    {
      "cell_type": "code",
      "execution_count": null,
      "source": [
        "### START CODE HERE ###\n",
        "\n",
        "### END CODE HERE ###"
      ],
      "outputs": [],
      "metadata": {
        "id": "pVgfjlk_51us"
      }
    },
    {
      "cell_type": "markdown",
      "source": [
        "## Plot\n",
        ">You must plot the cos(x) curve. plot 20 cycle of the curve. the frequency of first half of curve is 50 Hz and frequency of second lalf is 200 Hz. \n",
        "> set the x_label, y_label and title for your plot."
      ],
      "metadata": {
        "id": "-xaIS92c51us"
      }
    },
    {
      "cell_type": "code",
      "execution_count": null,
      "source": [
        "### START CODE HERE ###\n",
        "\n",
        "### END CODE HERE ###"
      ],
      "outputs": [],
      "metadata": {
        "id": "5VhGTsTw51us"
      }
    }
  ],
  "metadata": {
    "orig_nbformat": 4,
    "language_info": {
      "name": "python",
      "version": "3.8.5",
      "mimetype": "text/x-python",
      "codemirror_mode": {
        "name": "ipython",
        "version": 3
      },
      "pygments_lexer": "ipython3",
      "nbconvert_exporter": "python",
      "file_extension": ".py"
    },
    "kernelspec": {
      "name": "python3",
      "display_name": "Python 3.8.5 64-bit"
    },
    "interpreter": {
      "hash": "d8283cc4fef7fdfd79fce9ff4c59fb46bb636ce565bf5e011ed8cd98646ea4d5"
    },
    "colab": {
      "provenance": []
    }
  },
  "nbformat": 4,
  "nbformat_minor": 0
}